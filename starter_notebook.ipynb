{
  "cells": [
    {
      "cell_type": "markdown",
      "metadata": {
        "id": "view-in-github",
        "colab_type": "text"
      },
      "source": [
        "<a href=\"https://colab.research.google.com/github/Rabita2005/weatherwise-rabita-sami/blob/main/starter_notebook.ipynb\" target=\"_parent\"><img src=\"https://colab.research.google.com/assets/colab-badge.svg\" alt=\"Open In Colab\"/></a>"
      ]
    },
    {
      "cell_type": "markdown",
      "id": "fa8c7f6c",
      "metadata": {
        "id": "fa8c7f6c"
      },
      "source": [
        "## 🧰 Setup and Imports\n",
        "\n"
      ]
    },
    {
      "cell_type": "code",
      "execution_count": 2,
      "id": "70c3f3f1",
      "metadata": {
        "id": "70c3f3f1",
        "colab": {
          "base_uri": "https://localhost:8080/"
        },
        "outputId": "5b99b81f-d706-440e-95c9-901aa62d78f3"
      },
      "outputs": [
        {
          "output_type": "stream",
          "name": "stdout",
          "text": [
            "Collecting fetch-my-weather\n",
            "  Downloading fetch_my_weather-0.4.0-py3-none-any.whl.metadata (12 kB)\n",
            "Requirement already satisfied: requests>=2.25.0 in /usr/local/lib/python3.11/dist-packages (from fetch-my-weather) (2.32.3)\n",
            "Requirement already satisfied: pydantic>=1.8.0 in /usr/local/lib/python3.11/dist-packages (from fetch-my-weather) (2.11.4)\n",
            "Requirement already satisfied: annotated-types>=0.6.0 in /usr/local/lib/python3.11/dist-packages (from pydantic>=1.8.0->fetch-my-weather) (0.7.0)\n",
            "Requirement already satisfied: pydantic-core==2.33.2 in /usr/local/lib/python3.11/dist-packages (from pydantic>=1.8.0->fetch-my-weather) (2.33.2)\n",
            "Requirement already satisfied: typing-extensions>=4.12.2 in /usr/local/lib/python3.11/dist-packages (from pydantic>=1.8.0->fetch-my-weather) (4.13.2)\n",
            "Requirement already satisfied: typing-inspection>=0.4.0 in /usr/local/lib/python3.11/dist-packages (from pydantic>=1.8.0->fetch-my-weather) (0.4.0)\n",
            "Requirement already satisfied: charset-normalizer<4,>=2 in /usr/local/lib/python3.11/dist-packages (from requests>=2.25.0->fetch-my-weather) (3.4.2)\n",
            "Requirement already satisfied: idna<4,>=2.5 in /usr/local/lib/python3.11/dist-packages (from requests>=2.25.0->fetch-my-weather) (3.10)\n",
            "Requirement already satisfied: urllib3<3,>=1.21.1 in /usr/local/lib/python3.11/dist-packages (from requests>=2.25.0->fetch-my-weather) (2.4.0)\n",
            "Requirement already satisfied: certifi>=2017.4.17 in /usr/local/lib/python3.11/dist-packages (from requests>=2.25.0->fetch-my-weather) (2025.4.26)\n",
            "Downloading fetch_my_weather-0.4.0-py3-none-any.whl (17 kB)\n",
            "Installing collected packages: fetch-my-weather\n",
            "Successfully installed fetch-my-weather-0.4.0\n",
            "Collecting hands-on-ai\n",
            "  Downloading hands_on_ai-0.1.9-py3-none-any.whl.metadata (4.7 kB)\n",
            "Requirement already satisfied: requests in /usr/local/lib/python3.11/dist-packages (from hands-on-ai) (2.32.3)\n",
            "Requirement already satisfied: typer in /usr/local/lib/python3.11/dist-packages (from hands-on-ai) (0.15.3)\n",
            "Collecting python-fasthtml (from hands-on-ai)\n",
            "  Downloading python_fasthtml-0.12.18-py3-none-any.whl.metadata (9.3 kB)\n",
            "Collecting python-docx (from hands-on-ai)\n",
            "  Downloading python_docx-1.1.2-py3-none-any.whl.metadata (2.0 kB)\n",
            "Collecting pymupdf (from hands-on-ai)\n",
            "  Downloading pymupdf-1.25.5-cp39-abi3-manylinux2014_x86_64.manylinux_2_17_x86_64.whl.metadata (3.4 kB)\n",
            "Requirement already satisfied: scikit-learn in /usr/local/lib/python3.11/dist-packages (from hands-on-ai) (1.6.1)\n",
            "Requirement already satisfied: numpy in /usr/local/lib/python3.11/dist-packages (from hands-on-ai) (2.0.2)\n",
            "Requirement already satisfied: lxml>=3.1.0 in /usr/local/lib/python3.11/dist-packages (from python-docx->hands-on-ai) (5.4.0)\n",
            "Requirement already satisfied: typing-extensions>=4.9.0 in /usr/local/lib/python3.11/dist-packages (from python-docx->hands-on-ai) (4.13.2)\n",
            "Collecting fastcore>=1.8.1 (from python-fasthtml->hands-on-ai)\n",
            "  Downloading fastcore-1.8.2-py3-none-any.whl.metadata (3.7 kB)\n",
            "Requirement already satisfied: python-dateutil in /usr/local/lib/python3.11/dist-packages (from python-fasthtml->hands-on-ai) (2.9.0.post0)\n",
            "Collecting starlette>0.33 (from python-fasthtml->hands-on-ai)\n",
            "  Downloading starlette-0.46.2-py3-none-any.whl.metadata (6.2 kB)\n",
            "Requirement already satisfied: oauthlib in /usr/local/lib/python3.11/dist-packages (from python-fasthtml->hands-on-ai) (3.2.2)\n",
            "Requirement already satisfied: itsdangerous in /usr/local/lib/python3.11/dist-packages (from python-fasthtml->hands-on-ai) (2.2.0)\n",
            "Collecting uvicorn>=0.30 (from uvicorn[standard]>=0.30->python-fasthtml->hands-on-ai)\n",
            "  Downloading uvicorn-0.34.2-py3-none-any.whl.metadata (6.5 kB)\n",
            "Requirement already satisfied: httpx in /usr/local/lib/python3.11/dist-packages (from python-fasthtml->hands-on-ai) (0.28.1)\n",
            "Collecting fastlite>=0.1.1 (from python-fasthtml->hands-on-ai)\n",
            "  Downloading fastlite-0.1.3-py3-none-any.whl.metadata (11 kB)\n",
            "Collecting python-multipart (from python-fasthtml->hands-on-ai)\n",
            "  Downloading python_multipart-0.0.20-py3-none-any.whl.metadata (1.8 kB)\n",
            "Requirement already satisfied: beautifulsoup4 in /usr/local/lib/python3.11/dist-packages (from python-fasthtml->hands-on-ai) (4.13.4)\n",
            "Requirement already satisfied: charset-normalizer<4,>=2 in /usr/local/lib/python3.11/dist-packages (from requests->hands-on-ai) (3.4.2)\n",
            "Requirement already satisfied: idna<4,>=2.5 in /usr/local/lib/python3.11/dist-packages (from requests->hands-on-ai) (3.10)\n",
            "Requirement already satisfied: urllib3<3,>=1.21.1 in /usr/local/lib/python3.11/dist-packages (from requests->hands-on-ai) (2.4.0)\n",
            "Requirement already satisfied: certifi>=2017.4.17 in /usr/local/lib/python3.11/dist-packages (from requests->hands-on-ai) (2025.4.26)\n",
            "Requirement already satisfied: scipy>=1.6.0 in /usr/local/lib/python3.11/dist-packages (from scikit-learn->hands-on-ai) (1.15.3)\n",
            "Requirement already satisfied: joblib>=1.2.0 in /usr/local/lib/python3.11/dist-packages (from scikit-learn->hands-on-ai) (1.5.0)\n",
            "Requirement already satisfied: threadpoolctl>=3.1.0 in /usr/local/lib/python3.11/dist-packages (from scikit-learn->hands-on-ai) (3.6.0)\n",
            "Requirement already satisfied: click>=8.0.0 in /usr/local/lib/python3.11/dist-packages (from typer->hands-on-ai) (8.2.0)\n",
            "Requirement already satisfied: shellingham>=1.3.0 in /usr/local/lib/python3.11/dist-packages (from typer->hands-on-ai) (1.5.4)\n",
            "Requirement already satisfied: rich>=10.11.0 in /usr/local/lib/python3.11/dist-packages (from typer->hands-on-ai) (13.9.4)\n",
            "Requirement already satisfied: packaging in /usr/local/lib/python3.11/dist-packages (from fastcore>=1.8.1->python-fasthtml->hands-on-ai) (24.2)\n",
            "Collecting apswutils>=0.0.2 (from fastlite>=0.1.1->python-fasthtml->hands-on-ai)\n",
            "  Downloading apswutils-0.0.2-py3-none-any.whl.metadata (7.1 kB)\n",
            "Requirement already satisfied: markdown-it-py>=2.2.0 in /usr/local/lib/python3.11/dist-packages (from rich>=10.11.0->typer->hands-on-ai) (3.0.0)\n",
            "Requirement already satisfied: pygments<3.0.0,>=2.13.0 in /usr/local/lib/python3.11/dist-packages (from rich>=10.11.0->typer->hands-on-ai) (2.19.1)\n",
            "Requirement already satisfied: anyio<5,>=3.6.2 in /usr/local/lib/python3.11/dist-packages (from starlette>0.33->python-fasthtml->hands-on-ai) (4.9.0)\n",
            "Requirement already satisfied: h11>=0.8 in /usr/local/lib/python3.11/dist-packages (from uvicorn>=0.30->uvicorn[standard]>=0.30->python-fasthtml->hands-on-ai) (0.16.0)\n",
            "Collecting httptools>=0.6.3 (from uvicorn[standard]>=0.30->python-fasthtml->hands-on-ai)\n",
            "  Downloading httptools-0.6.4-cp311-cp311-manylinux_2_5_x86_64.manylinux1_x86_64.manylinux_2_17_x86_64.manylinux2014_x86_64.whl.metadata (3.6 kB)\n",
            "Collecting python-dotenv>=0.13 (from uvicorn[standard]>=0.30->python-fasthtml->hands-on-ai)\n",
            "  Downloading python_dotenv-1.1.0-py3-none-any.whl.metadata (24 kB)\n",
            "Requirement already satisfied: pyyaml>=5.1 in /usr/local/lib/python3.11/dist-packages (from uvicorn[standard]>=0.30->python-fasthtml->hands-on-ai) (6.0.2)\n",
            "Collecting uvloop!=0.15.0,!=0.15.1,>=0.14.0 (from uvicorn[standard]>=0.30->python-fasthtml->hands-on-ai)\n",
            "  Downloading uvloop-0.21.0-cp311-cp311-manylinux_2_17_x86_64.manylinux2014_x86_64.whl.metadata (4.9 kB)\n",
            "Collecting watchfiles>=0.13 (from uvicorn[standard]>=0.30->python-fasthtml->hands-on-ai)\n",
            "  Downloading watchfiles-1.0.5-cp311-cp311-manylinux_2_17_x86_64.manylinux2014_x86_64.whl.metadata (4.9 kB)\n",
            "Requirement already satisfied: websockets>=10.4 in /usr/local/lib/python3.11/dist-packages (from uvicorn[standard]>=0.30->python-fasthtml->hands-on-ai) (15.0.1)\n",
            "Requirement already satisfied: soupsieve>1.2 in /usr/local/lib/python3.11/dist-packages (from beautifulsoup4->python-fasthtml->hands-on-ai) (2.7)\n",
            "Requirement already satisfied: httpcore==1.* in /usr/local/lib/python3.11/dist-packages (from httpx->python-fasthtml->hands-on-ai) (1.0.9)\n",
            "Requirement already satisfied: six>=1.5 in /usr/local/lib/python3.11/dist-packages (from python-dateutil->python-fasthtml->hands-on-ai) (1.17.0)\n",
            "Requirement already satisfied: sniffio>=1.1 in /usr/local/lib/python3.11/dist-packages (from anyio<5,>=3.6.2->starlette>0.33->python-fasthtml->hands-on-ai) (1.3.1)\n",
            "Collecting apsw (from apswutils>=0.0.2->fastlite>=0.1.1->python-fasthtml->hands-on-ai)\n",
            "  Downloading apsw-3.49.2.0-cp311-cp311-manylinux_2_17_x86_64.manylinux2014_x86_64.whl.metadata (3.7 kB)\n",
            "Requirement already satisfied: mdurl~=0.1 in /usr/local/lib/python3.11/dist-packages (from markdown-it-py>=2.2.0->rich>=10.11.0->typer->hands-on-ai) (0.1.2)\n",
            "Downloading hands_on_ai-0.1.9-py3-none-any.whl (132 kB)\n",
            "\u001b[2K   \u001b[90m━━━━━━━━━━━━━━━━━━━━━━━━━━━━━━━━━━━━━━━━\u001b[0m \u001b[32m132.3/132.3 kB\u001b[0m \u001b[31m5.2 MB/s\u001b[0m eta \u001b[36m0:00:00\u001b[0m\n",
            "\u001b[?25hDownloading pymupdf-1.25.5-cp39-abi3-manylinux2014_x86_64.manylinux_2_17_x86_64.whl (20.0 MB)\n",
            "\u001b[2K   \u001b[90m━━━━━━━━━━━━━━━━━━━━━━━━━━━━━━━━━━━━━━━━\u001b[0m \u001b[32m20.0/20.0 MB\u001b[0m \u001b[31m42.9 MB/s\u001b[0m eta \u001b[36m0:00:00\u001b[0m\n",
            "\u001b[?25hDownloading python_docx-1.1.2-py3-none-any.whl (244 kB)\n",
            "\u001b[2K   \u001b[90m━━━━━━━━━━━━━━━━━━━━━━━━━━━━━━━━━━━━━━━━\u001b[0m \u001b[32m244.3/244.3 kB\u001b[0m \u001b[31m17.1 MB/s\u001b[0m eta \u001b[36m0:00:00\u001b[0m\n",
            "\u001b[?25hDownloading python_fasthtml-0.12.18-py3-none-any.whl (69 kB)\n",
            "\u001b[2K   \u001b[90m━━━━━━━━━━━━━━━━━━━━━━━━━━━━━━━━━━━━━━━━\u001b[0m \u001b[32m69.9/69.9 kB\u001b[0m \u001b[31m5.5 MB/s\u001b[0m eta \u001b[36m0:00:00\u001b[0m\n",
            "\u001b[?25hDownloading fastcore-1.8.2-py3-none-any.whl (78 kB)\n",
            "\u001b[2K   \u001b[90m━━━━━━━━━━━━━━━━━━━━━━━━━━━━━━━━━━━━━━━━\u001b[0m \u001b[32m78.2/78.2 kB\u001b[0m \u001b[31m6.6 MB/s\u001b[0m eta \u001b[36m0:00:00\u001b[0m\n",
            "\u001b[?25hDownloading fastlite-0.1.3-py3-none-any.whl (17 kB)\n",
            "Downloading starlette-0.46.2-py3-none-any.whl (72 kB)\n",
            "\u001b[2K   \u001b[90m━━━━━━━━━━━━━━━━━━━━━━━━━━━━━━━━━━━━━━━━\u001b[0m \u001b[32m72.0/72.0 kB\u001b[0m \u001b[31m5.9 MB/s\u001b[0m eta \u001b[36m0:00:00\u001b[0m\n",
            "\u001b[?25hDownloading uvicorn-0.34.2-py3-none-any.whl (62 kB)\n",
            "\u001b[2K   \u001b[90m━━━━━━━━━━━━━━━━━━━━━━━━━━━━━━━━━━━━━━━━\u001b[0m \u001b[32m62.5/62.5 kB\u001b[0m \u001b[31m5.3 MB/s\u001b[0m eta \u001b[36m0:00:00\u001b[0m\n",
            "\u001b[?25hDownloading python_multipart-0.0.20-py3-none-any.whl (24 kB)\n",
            "Downloading apswutils-0.0.2-py3-none-any.whl (80 kB)\n",
            "\u001b[2K   \u001b[90m━━━━━━━━━━━━━━━━━━━━━━━━━━━━━━━━━━━━━━━━\u001b[0m \u001b[32m80.5/80.5 kB\u001b[0m \u001b[31m6.3 MB/s\u001b[0m eta \u001b[36m0:00:00\u001b[0m\n",
            "\u001b[?25hDownloading httptools-0.6.4-cp311-cp311-manylinux_2_5_x86_64.manylinux1_x86_64.manylinux_2_17_x86_64.manylinux2014_x86_64.whl (459 kB)\n",
            "\u001b[2K   \u001b[90m━━━━━━━━━━━━━━━━━━━━━━━━━━━━━━━━━━━━━━━━\u001b[0m \u001b[32m459.8/459.8 kB\u001b[0m \u001b[31m32.7 MB/s\u001b[0m eta \u001b[36m0:00:00\u001b[0m\n",
            "\u001b[?25hDownloading python_dotenv-1.1.0-py3-none-any.whl (20 kB)\n",
            "Downloading uvloop-0.21.0-cp311-cp311-manylinux_2_17_x86_64.manylinux2014_x86_64.whl (4.0 MB)\n",
            "\u001b[2K   \u001b[90m━━━━━━━━━━━━━━━━━━━━━━━━━━━━━━━━━━━━━━━━\u001b[0m \u001b[32m4.0/4.0 MB\u001b[0m \u001b[31m89.9 MB/s\u001b[0m eta \u001b[36m0:00:00\u001b[0m\n",
            "\u001b[?25hDownloading watchfiles-1.0.5-cp311-cp311-manylinux_2_17_x86_64.manylinux2014_x86_64.whl (454 kB)\n",
            "\u001b[2K   \u001b[90m━━━━━━━━━━━━━━━━━━━━━━━━━━━━━━━━━━━━━━━━\u001b[0m \u001b[32m454.8/454.8 kB\u001b[0m \u001b[31m30.2 MB/s\u001b[0m eta \u001b[36m0:00:00\u001b[0m\n",
            "\u001b[?25hDownloading apsw-3.49.2.0-cp311-cp311-manylinux_2_17_x86_64.manylinux2014_x86_64.whl (6.4 MB)\n",
            "\u001b[2K   \u001b[90m━━━━━━━━━━━━━━━━━━━━━━━━━━━━━━━━━━━━━━━━\u001b[0m \u001b[32m6.4/6.4 MB\u001b[0m \u001b[31m68.9 MB/s\u001b[0m eta \u001b[36m0:00:00\u001b[0m\n",
            "\u001b[?25hInstalling collected packages: uvloop, uvicorn, python-multipart, python-dotenv, python-docx, pymupdf, httptools, fastcore, apsw, watchfiles, starlette, apswutils, fastlite, python-fasthtml, hands-on-ai\n",
            "  Attempting uninstall: fastcore\n",
            "    Found existing installation: fastcore 1.7.29\n",
            "    Uninstalling fastcore-1.7.29:\n",
            "      Successfully uninstalled fastcore-1.7.29\n",
            "\u001b[31mERROR: pip's dependency resolver does not currently take into account all the packages that are installed. This behaviour is the source of the following dependency conflicts.\n",
            "fastai 2.7.19 requires fastcore<1.8,>=1.5.29, but you have fastcore 1.8.2 which is incompatible.\u001b[0m\u001b[31m\n",
            "\u001b[0mSuccessfully installed apsw-3.49.2.0 apswutils-0.0.2 fastcore-1.8.2 fastlite-0.1.3 hands-on-ai-0.1.9 httptools-0.6.4 pymupdf-1.25.5 python-docx-1.1.2 python-dotenv-1.1.0 python-fasthtml-0.12.18 python-multipart-0.0.20 starlette-0.46.2 uvicorn-0.34.2 uvloop-0.21.0 watchfiles-1.0.5\n"
          ]
        }
      ],
      "source": [
        "!pip install fetch-my-weather\n",
        "!pip install hands-on-ai\n"
      ]
    },
    {
      "cell_type": "code",
      "source": [
        "import os\n",
        "\n",
        "os.environ['HANDS_ON_AI_SERVER'] = 'http://ollama.serveur.au'\n",
        "os.environ['HANDS_ON_AI_MODEL'] = 'granite3.2'\n",
        "os.environ['HANDS_ON_AI_API_KEY'] = input('Enter your API key: ')"
      ],
      "metadata": {
        "id": "B2JKlJfrGgIb",
        "colab": {
          "base_uri": "https://localhost:8080/"
        },
        "outputId": "766de0b0-bc85-45dc-9678-b8029d055d36"
      },
      "id": "B2JKlJfrGgIb",
      "execution_count": 4,
      "outputs": [
        {
          "name": "stdout",
          "output_type": "stream",
          "text": [
            "Enter your API key: 28c24ec30e34fdfd8879b0b363bdc832\n"
          ]
        }
      ]
    },
    {
      "cell_type": "markdown",
      "id": "59ae7543",
      "metadata": {
        "id": "59ae7543"
      },
      "source": [
        "## 📦 Setup and Configuration\n",
        "Import required packages and setup environment."
      ]
    },
    {
      "cell_type": "code",
      "execution_count": 7,
      "id": "f1dd051e",
      "metadata": {
        "id": "f1dd051e"
      },
      "outputs": [],
      "source": [
        "# Install required packages if running in Colab\n",
        "# !pip install fetch-my-weather ipywidgets matplotlib\n",
        "\n",
        "import os\n",
        "import json\n",
        "import ipywidgets as widgets\n",
        "from IPython.display import display, clear_output\n",
        "import fetch_my_weather\n",
        "import matplotlib.pyplot as plt"
      ]
    },
    {
      "cell_type": "markdown",
      "id": "f736ade3",
      "metadata": {
        "id": "f736ade3"
      },
      "source": [
        "## 🌤️ Weather Data Functions"
      ]
    },
    {
      "cell_type": "code",
      "execution_count": 8,
      "id": "7a2c7cd0",
      "metadata": {
        "id": "7a2c7cd0"
      },
      "outputs": [],
      "source": [
        "def get_weather_data(location):\n",
        "    try:\n",
        "        return fetch_my_weather.get_weather(location=location, units=\"m\")\n",
        "    except Exception as e:\n",
        "        print(f\"Error fetching weather data: {e}\")\n",
        "        return None"
      ]
    },
    {
      "cell_type": "markdown",
      "id": "8a744fdc",
      "metadata": {
        "id": "8a744fdc"
      },
      "source": [
        "## 📊 Visualisation Functions"
      ]
    },
    {
      "cell_type": "code",
      "execution_count": 9,
      "id": "9dc3bf85",
      "metadata": {
        "id": "9dc3bf85"
      },
      "outputs": [],
      "source": [
        "def create_temperature_visualisation(weather_data):\n",
        "    if not weather_data or not hasattr(weather_data, \"weather\"):\n",
        "        print(\"No forecast data available.\")\n",
        "        return\n",
        "\n",
        "    days = [day.date for day in weather_data.weather]\n",
        "    temps = [day.maxtempC for day in weather_data.weather]\n",
        "\n",
        "    plt.figure(figsize=(8,4))\n",
        "    plt.plot(days, temps, marker='o', color='orange')\n",
        "    plt.title(\"Temperature Forecast\")\n",
        "    plt.xlabel(\"Date\")\n",
        "    plt.ylabel(\"Max Temperature (°C)\")\n",
        "    plt.grid(True)\n",
        "    plt.xticks(rotation=45)\n",
        "    plt.tight_layout()\n",
        "    plt.show()"
      ]
    },
    {
      "cell_type": "code",
      "source": [
        "def create_precipitation_visualisation(weather_data):\n",
        "    if not weather_data or not hasattr(weather_data, \"weather\"):\n",
        "        print(\"No forecast data available.\")\n",
        "        return\n",
        "\n",
        "    days = [day.date for day in weather_data.weather]\n",
        "    rain_chance = [int(day.hourly[0].chanceofrain or 0) for day in weather_data.weather]\n",
        "\n",
        "    plt.figure(figsize=(8,4))\n",
        "    plt.bar(days, rain_chance, color='skyblue')\n",
        "    plt.title(\"Chance of Rain (%)\")\n",
        "    plt.xlabel(\"Date\")\n",
        "    plt.ylabel(\"Rain Chance (%)\")\n",
        "    plt.ylim(0, 100)\n",
        "    plt.grid(axis='y')\n",
        "    plt.xticks(rotation=45)\n",
        "    plt.tight_layout()\n",
        "    plt.show()"
      ],
      "metadata": {
        "id": "HpOlQylYG5Ho"
      },
      "id": "HpOlQylYG5Ho",
      "execution_count": 10,
      "outputs": []
    },
    {
      "cell_type": "markdown",
      "id": "9f95d160",
      "metadata": {
        "id": "9f95d160"
      },
      "source": [
        "## 🤖 Natural Language Processing"
      ]
    },
    {
      "cell_type": "code",
      "execution_count": 11,
      "id": "bcc5833e",
      "metadata": {
        "id": "bcc5833e"
      },
      "outputs": [],
      "source": [
        "def parse_weather_question(question):\n",
        "    question = question.lower()\n",
        "    parsed = {\"location\": None, \"attribute\": None}\n",
        "\n",
        "    if \"temperature\" in question or \"hot\" in question:\n",
        "        parsed[\"attribute\"] = \"temperature\"\n",
        "    elif \"rain\" in question or \"precipitation\" in question:\n",
        "        parsed[\"attribute\"] = \"precipitation\"\n",
        "\n",
        "    if \"in \" in question:\n",
        "        parsed[\"location\"] = question.split(\"in \")[-1].split()[0]\n",
        "\n",
        "    return parsed"
      ]
    },
    {
      "cell_type": "markdown",
      "id": "0d85225e",
      "metadata": {
        "id": "0d85225e"
      },
      "source": [
        "## 🧭 User Interface"
      ]
    },
    {
      "cell_type": "code",
      "execution_count": 12,
      "id": "fa6cb0f6",
      "metadata": {
        "id": "fa6cb0f6",
        "colab": {
          "base_uri": "https://localhost:8080/",
          "height": 878,
          "referenced_widgets": [
            "068a7258c1fc4f9e9679d14dbf36302e",
            "496154e9dddc48f4af2442a534248467",
            "6463ebf191934a23816296cb223d4422",
            "df0e352f61a84ef0ade05e402cd1cb11",
            "f1ccb305d1b44f13996879202892f90a",
            "8e04daada2f84712906909b636581b12",
            "c3ab0b8f132845d98f1f11077d262970",
            "0b4de9c4abaa45c588e1d95de696316c"
          ]
        },
        "outputId": "28b59963-a585-4557-9e8a-6650c6bd5ccc"
      },
      "outputs": [
        {
          "output_type": "display_data",
          "data": {
            "text/plain": [
              "Text(value='Perth', description='Location:', placeholder='Enter a city')"
            ],
            "application/vnd.jupyter.widget-view+json": {
              "version_major": 2,
              "version_minor": 0,
              "model_id": "068a7258c1fc4f9e9679d14dbf36302e"
            }
          },
          "metadata": {}
        },
        {
          "output_type": "display_data",
          "data": {
            "text/plain": [
              "Button(description='Check Weather', style=ButtonStyle())"
            ],
            "application/vnd.jupyter.widget-view+json": {
              "version_major": 2,
              "version_minor": 0,
              "model_id": "df0e352f61a84ef0ade05e402cd1cb11"
            }
          },
          "metadata": {}
        },
        {
          "output_type": "display_data",
          "data": {
            "text/plain": [
              "Output()"
            ],
            "application/vnd.jupyter.widget-view+json": {
              "version_major": 2,
              "version_minor": 0,
              "model_id": "c3ab0b8f132845d98f1f11077d262970"
            }
          },
          "metadata": {}
        }
      ],
      "source": [
        "location_input = widgets.Text(\n",
        "    value='Perth',\n",
        "    placeholder='Enter a city',\n",
        "    description='Location:',\n",
        "    disabled=False\n",
        ")\n",
        "\n",
        "ask_button = widgets.Button(description=\"Check Weather\")\n",
        "output = widgets.Output()\n",
        "\n",
        "def on_button_click(b):\n",
        "    with output:\n",
        "        clear_output()\n",
        "        location = location_input.value\n",
        "        data = get_weather_data(location)\n",
        "        if data:\n",
        "            print(f\"Weather forecast for {location.title()}:\")\n",
        "            create_temperature_visualisation(data)\n",
        "            create_precipitation_visualisation(data)\n",
        "        else:\n",
        "            print(\"Could not retrieve weather data. Please try a different location.\")\n",
        "\n",
        "ask_button.on_click(on_button_click)\n",
        "\n",
        "display(location_input, ask_button, output)"
      ]
    },
    {
      "cell_type": "markdown",
      "id": "d643a53c",
      "metadata": {
        "id": "d643a53c"
      },
      "source": [
        "## 🧩 Main Application Logic"
      ]
    },
    {
      "cell_type": "code",
      "execution_count": 13,
      "id": "a9e2e805",
      "metadata": {
        "id": "a9e2e805"
      },
      "outputs": [],
      "source": [
        "# Tie everything together here\n",
        "def generate_weather_response(parsed_question, weather_data):\n",
        "    \"\"\"\n",
        "    Generate a natural language response to a weather question.\n",
        "\n",
        "    Args:\n",
        "        parsed_question (dict): Parsed question data\n",
        "        weather_data (dict): Weather data\n",
        "\n",
        "    Returns:\n",
        "        str: Natural language response\n",
        "    \"\"\"\n",
        "    pass"
      ]
    },
    {
      "cell_type": "markdown",
      "id": "fde44479",
      "metadata": {
        "id": "fde44479"
      },
      "source": [
        "## 🧪 Testing and Examples"
      ]
    },
    {
      "cell_type": "code",
      "execution_count": 15,
      "id": "4e573901",
      "metadata": {
        "id": "4e573901"
      },
      "outputs": [],
      "source": [
        "# Include sample input/output for each function"
      ]
    },
    {
      "cell_type": "markdown",
      "id": "d2885880",
      "metadata": {
        "id": "d2885880"
      },
      "source": [
        "## 🗂️ AI Prompting Log (Optional)\n",
        "Add markdown cells here summarising prompts used or link to AI conversations in the `ai-conversations/` folder."
      ]
    }
  ],
  "metadata": {
    "language_info": {
      "name": "python"
    },
    "colab": {
      "provenance": [],
      "include_colab_link": true
    },
    "kernelspec": {
      "name": "python3",
      "display_name": "Python 3"
    },
    "widgets": {
      "application/vnd.jupyter.widget-state+json": {
        "068a7258c1fc4f9e9679d14dbf36302e": {
          "model_module": "@jupyter-widgets/controls",
          "model_name": "TextModel",
          "model_module_version": "1.5.0",
          "state": {
            "_dom_classes": [],
            "_model_module": "@jupyter-widgets/controls",
            "_model_module_version": "1.5.0",
            "_model_name": "TextModel",
            "_view_count": null,
            "_view_module": "@jupyter-widgets/controls",
            "_view_module_version": "1.5.0",
            "_view_name": "TextView",
            "continuous_update": true,
            "description": "Location:",
            "description_tooltip": null,
            "disabled": false,
            "layout": "IPY_MODEL_496154e9dddc48f4af2442a534248467",
            "placeholder": "Enter a city",
            "style": "IPY_MODEL_6463ebf191934a23816296cb223d4422",
            "value": "Perth"
          }
        },
        "496154e9dddc48f4af2442a534248467": {
          "model_module": "@jupyter-widgets/base",
          "model_name": "LayoutModel",
          "model_module_version": "1.2.0",
          "state": {
            "_model_module": "@jupyter-widgets/base",
            "_model_module_version": "1.2.0",
            "_model_name": "LayoutModel",
            "_view_count": null,
            "_view_module": "@jupyter-widgets/base",
            "_view_module_version": "1.2.0",
            "_view_name": "LayoutView",
            "align_content": null,
            "align_items": null,
            "align_self": null,
            "border": null,
            "bottom": null,
            "display": null,
            "flex": null,
            "flex_flow": null,
            "grid_area": null,
            "grid_auto_columns": null,
            "grid_auto_flow": null,
            "grid_auto_rows": null,
            "grid_column": null,
            "grid_gap": null,
            "grid_row": null,
            "grid_template_areas": null,
            "grid_template_columns": null,
            "grid_template_rows": null,
            "height": null,
            "justify_content": null,
            "justify_items": null,
            "left": null,
            "margin": null,
            "max_height": null,
            "max_width": null,
            "min_height": null,
            "min_width": null,
            "object_fit": null,
            "object_position": null,
            "order": null,
            "overflow": null,
            "overflow_x": null,
            "overflow_y": null,
            "padding": null,
            "right": null,
            "top": null,
            "visibility": null,
            "width": null
          }
        },
        "6463ebf191934a23816296cb223d4422": {
          "model_module": "@jupyter-widgets/controls",
          "model_name": "DescriptionStyleModel",
          "model_module_version": "1.5.0",
          "state": {
            "_model_module": "@jupyter-widgets/controls",
            "_model_module_version": "1.5.0",
            "_model_name": "DescriptionStyleModel",
            "_view_count": null,
            "_view_module": "@jupyter-widgets/base",
            "_view_module_version": "1.2.0",
            "_view_name": "StyleView",
            "description_width": ""
          }
        },
        "df0e352f61a84ef0ade05e402cd1cb11": {
          "model_module": "@jupyter-widgets/controls",
          "model_name": "ButtonModel",
          "model_module_version": "1.5.0",
          "state": {
            "_dom_classes": [],
            "_model_module": "@jupyter-widgets/controls",
            "_model_module_version": "1.5.0",
            "_model_name": "ButtonModel",
            "_view_count": null,
            "_view_module": "@jupyter-widgets/controls",
            "_view_module_version": "1.5.0",
            "_view_name": "ButtonView",
            "button_style": "",
            "description": "Check Weather",
            "disabled": false,
            "icon": "",
            "layout": "IPY_MODEL_f1ccb305d1b44f13996879202892f90a",
            "style": "IPY_MODEL_8e04daada2f84712906909b636581b12",
            "tooltip": ""
          }
        },
        "f1ccb305d1b44f13996879202892f90a": {
          "model_module": "@jupyter-widgets/base",
          "model_name": "LayoutModel",
          "model_module_version": "1.2.0",
          "state": {
            "_model_module": "@jupyter-widgets/base",
            "_model_module_version": "1.2.0",
            "_model_name": "LayoutModel",
            "_view_count": null,
            "_view_module": "@jupyter-widgets/base",
            "_view_module_version": "1.2.0",
            "_view_name": "LayoutView",
            "align_content": null,
            "align_items": null,
            "align_self": null,
            "border": null,
            "bottom": null,
            "display": null,
            "flex": null,
            "flex_flow": null,
            "grid_area": null,
            "grid_auto_columns": null,
            "grid_auto_flow": null,
            "grid_auto_rows": null,
            "grid_column": null,
            "grid_gap": null,
            "grid_row": null,
            "grid_template_areas": null,
            "grid_template_columns": null,
            "grid_template_rows": null,
            "height": null,
            "justify_content": null,
            "justify_items": null,
            "left": null,
            "margin": null,
            "max_height": null,
            "max_width": null,
            "min_height": null,
            "min_width": null,
            "object_fit": null,
            "object_position": null,
            "order": null,
            "overflow": null,
            "overflow_x": null,
            "overflow_y": null,
            "padding": null,
            "right": null,
            "top": null,
            "visibility": null,
            "width": null
          }
        },
        "8e04daada2f84712906909b636581b12": {
          "model_module": "@jupyter-widgets/controls",
          "model_name": "ButtonStyleModel",
          "model_module_version": "1.5.0",
          "state": {
            "_model_module": "@jupyter-widgets/controls",
            "_model_module_version": "1.5.0",
            "_model_name": "ButtonStyleModel",
            "_view_count": null,
            "_view_module": "@jupyter-widgets/base",
            "_view_module_version": "1.2.0",
            "_view_name": "StyleView",
            "button_color": null,
            "font_weight": ""
          }
        },
        "c3ab0b8f132845d98f1f11077d262970": {
          "model_module": "@jupyter-widgets/output",
          "model_name": "OutputModel",
          "model_module_version": "1.0.0",
          "state": {
            "_dom_classes": [],
            "_model_module": "@jupyter-widgets/output",
            "_model_module_version": "1.0.0",
            "_model_name": "OutputModel",
            "_view_count": null,
            "_view_module": "@jupyter-widgets/output",
            "_view_module_version": "1.0.0",
            "_view_name": "OutputView",
            "layout": "IPY_MODEL_0b4de9c4abaa45c588e1d95de696316c",
            "msg_id": "",
            "outputs": [
              {
                "output_type": "stream",
                "name": "stdout",
                "text": [
                  "Weather forecast for Perth:\n"
                ]
              },
              {
                "output_type": "display_data",
                "data": {
                  "text/plain": "<Figure size 800x400 with 1 Axes>",
                  "image/png": "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\n"
                },
                "metadata": {}
              },
              {
                "output_type": "display_data",
                "data": {
                  "text/plain": "<Figure size 800x400 with 1 Axes>",
                  "image/png": "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\n"
                },
                "metadata": {}
              }
            ]
          }
        },
        "0b4de9c4abaa45c588e1d95de696316c": {
          "model_module": "@jupyter-widgets/base",
          "model_name": "LayoutModel",
          "model_module_version": "1.2.0",
          "state": {
            "_model_module": "@jupyter-widgets/base",
            "_model_module_version": "1.2.0",
            "_model_name": "LayoutModel",
            "_view_count": null,
            "_view_module": "@jupyter-widgets/base",
            "_view_module_version": "1.2.0",
            "_view_name": "LayoutView",
            "align_content": null,
            "align_items": null,
            "align_self": null,
            "border": null,
            "bottom": null,
            "display": null,
            "flex": null,
            "flex_flow": null,
            "grid_area": null,
            "grid_auto_columns": null,
            "grid_auto_flow": null,
            "grid_auto_rows": null,
            "grid_column": null,
            "grid_gap": null,
            "grid_row": null,
            "grid_template_areas": null,
            "grid_template_columns": null,
            "grid_template_rows": null,
            "height": null,
            "justify_content": null,
            "justify_items": null,
            "left": null,
            "margin": null,
            "max_height": null,
            "max_width": null,
            "min_height": null,
            "min_width": null,
            "object_fit": null,
            "object_position": null,
            "order": null,
            "overflow": null,
            "overflow_x": null,
            "overflow_y": null,
            "padding": null,
            "right": null,
            "top": null,
            "visibility": null,
            "width": null
          }
        }
      }
    }
  },
  "nbformat": 4,
  "nbformat_minor": 5
}